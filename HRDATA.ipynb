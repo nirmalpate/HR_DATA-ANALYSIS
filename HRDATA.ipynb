{
 "cells": [
  {
   "cell_type": "code",
   "execution_count": null,
   "id": "adda1c14-6694-40c4-afda-68d40dda6ecc",
   "metadata": {},
   "outputs": [],
   "source": [
    "import pandas as pd\n",
    "import numpy as np\n",
    "\n",
    "hr = pd.read_csv(\"C:/Users/ADM/Desktop/HRDATA.csv\")\n",
    "\n",
    "hr.info()\n",
    "\n",
    "hr.isnull().sum()\n",
    "\n",
    "from sqlalchemy import create_engine \n",
    "\n",
    "db_user = 'root'\n",
    "db_password = '0000'\n",
    "db_host = 'localhost'\n",
    "db_port = '3306'\n",
    "db_name = 'pop'\n",
    "\n",
    "connection = f\"mysql+mysqlconnector://{db_user}:{db_password}@{db_host}:{db_port}/{db_name}\"\n",
    "\n",
    "engine = create_engine(connection)\n",
    "\n",
    "engine\n",
    "\n",
    "hr.to_sql(\"hr_data\",engine, if_exists = \"replace\",index =False)\n"
   ]
  }
 ],
 "metadata": {
  "kernelspec": {
   "display_name": "Python 3 (ipykernel)",
   "language": "python",
   "name": "python3"
  },
  "language_info": {
   "codemirror_mode": {
    "name": "ipython",
    "version": 3
   },
   "file_extension": ".py",
   "mimetype": "text/x-python",
   "name": "python",
   "nbconvert_exporter": "python",
   "pygments_lexer": "ipython3",
   "version": "3.12.4"
  }
 },
 "nbformat": 4,
 "nbformat_minor": 5
}
